{
 "cells": [
  {
   "cell_type": "markdown",
   "metadata": {},
   "source": [
    "# 1. Fill the missing pieces\n",
    "Fill the `____` parts in the code below."
   ]
  },
  {
   "cell_type": "code",
   "execution_count": 1,
   "metadata": {
    "ExecuteTime": {
     "end_time": "2024-03-31T16:18:01.009730Z",
     "start_time": "2024-03-31T16:18:01.001987Z"
    }
   },
   "outputs": [],
   "source": [
    "words = [\"PYTHON\", \"JOHN\", \"chEEse\", \"hAm\", \"DOE\", \"123\"]\n",
    "upper_case_words = []\n",
    "\n",
    "for a in words:\n",
    "    if a.isupper():\n",
    "        upper_case_words.append(a)"
   ]
  },
  {
   "cell_type": "code",
   "execution_count": 2,
   "metadata": {
    "editable": false,
    "ExecuteTime": {
     "end_time": "2024-03-31T16:18:01.014139Z",
     "start_time": "2024-03-31T16:18:01.011610Z"
    }
   },
   "outputs": [],
   "source": [
    "assert upper_case_words == [\"PYTHON\", \"JOHN\", \"DOE\"]"
   ]
  },
  {
   "cell_type": "markdown",
   "metadata": {},
   "source": [
    "# 2. Calculate the sum of dict values\n",
    "Calculate the sum of the values in `magic_dict` by taking only into account numeric values (hint: see [isinstance](https://docs.python.org/3/library/functions.html#isinstance)). "
   ]
  },
  {
   "cell_type": "code",
   "execution_count": 3,
   "metadata": {
    "editable": false,
    "ExecuteTime": {
     "end_time": "2024-03-31T16:18:01.018120Z",
     "start_time": "2024-03-31T16:18:01.015349Z"
    }
   },
   "outputs": [],
   "source": [
    "magic_dict = dict(val1=44, val2=\"secret value\", val3=55.0, val4=1)"
   ]
  },
  {
   "cell_type": "code",
   "execution_count": 4,
   "metadata": {
    "ExecuteTime": {
     "end_time": "2024-03-31T16:18:01.023268Z",
     "start_time": "2024-03-31T16:18:01.019503Z"
    }
   },
   "outputs": [],
   "source": [
    "# Your implementation\n",
    "sum_of_values = 0\n",
    "for key,value in magic_dict.items():\n",
    "    if isinstance(value,(float,int)):\n",
    "        sum_of_values=sum_of_values+value  "
   ]
  },
  {
   "cell_type": "code",
   "execution_count": 5,
   "metadata": {
    "editable": false,
    "ExecuteTime": {
     "end_time": "2024-03-31T16:18:01.028703Z",
     "start_time": "2024-03-31T16:18:01.025977Z"
    }
   },
   "outputs": [],
   "source": [
    "assert sum_of_values == 100"
   ]
  },
  {
   "cell_type": "markdown",
   "metadata": {},
   "source": [
    "# 3. Create a list of strings based on a list of numbers\n",
    "The rules:\n",
    "* If the number is a multiple of five and odd, the string should be `'five odd'`\n",
    "* If the number is a multiple of five and even, the string should be `'five even'`\n",
    "* If the number is odd, the string is `'odd'`\n",
    "* If the number is even, the string is `'even'`"
   ]
  },
  {
   "cell_type": "code",
   "execution_count": 6,
   "metadata": {
    "editable": false,
    "ExecuteTime": {
     "end_time": "2024-03-31T16:18:01.032241Z",
     "start_time": "2024-03-31T16:18:01.030174Z"
    }
   },
   "outputs": [],
   "source": [
    "numbers = [1, 3, 4, 6, 81, 80, 100, 95]"
   ]
  },
  {
   "cell_type": "code",
   "execution_count": 7,
   "metadata": {
    "ExecuteTime": {
     "end_time": "2024-03-31T16:18:01.037238Z",
     "start_time": "2024-03-31T16:18:01.033287Z"
    }
   },
   "outputs": [],
   "source": [
    "# Your implementation\n",
    "my_list = []\n",
    "for a in numbers:\n",
    "    if ((a%2==0)and(a%5==0)):\n",
    "        my_list.append(\"five even\")\n",
    "    elif ((a%2!=0)and(a%5==0)):\n",
    "        my_list.append(\"five odd\")\n",
    "    elif a%2==0:\n",
    "        my_list.append(\"even\")\n",
    "    elif a%2!=0:\n",
    "        my_list.append(\"odd\")"
   ]
  },
  {
   "cell_type": "code",
   "execution_count": 8,
   "metadata": {
    "editable": false,
    "ExecuteTime": {
     "end_time": "2024-03-31T16:18:01.041146Z",
     "start_time": "2024-03-31T16:18:01.038485Z"
    }
   },
   "outputs": [],
   "source": [
    "assert my_list == [\n",
    "    \"odd\",\n",
    "    \"odd\",\n",
    "    \"even\",\n",
    "    \"even\",\n",
    "    \"odd\",\n",
    "    \"five even\",\n",
    "    \"five even\",\n",
    "    \"five odd\",\n",
    "]"
   ]
  }
 ],
 "metadata": {
  "kernelspec": {
   "display_name": "Python 3 (ipykernel)",
   "language": "python",
   "name": "python3"
  },
  "language_info": {
   "codemirror_mode": {
    "name": "ipython",
    "version": 3
   },
   "file_extension": ".py",
   "mimetype": "text/x-python",
   "name": "python",
   "nbconvert_exporter": "python",
   "pygments_lexer": "ipython3",
   "version": "3.11.0"
  }
 },
 "nbformat": 4,
 "nbformat_minor": 2
}
