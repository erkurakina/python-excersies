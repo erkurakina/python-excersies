{
 "cells": [
  {
   "cell_type": "markdown",
   "metadata": {},
   "source": [
    "# 1. Creating formulas\n",
    "Write the following mathematical formula in Python:\n",
    "\n",
    "\\begin{align}\n",
    " result = 6a^3 - \\frac{8b^2 }{4c} + 11\n",
    "\\end{align}\n"
   ]
  },
  {
   "cell_type": "code",
   "execution_count": 5,
   "metadata": {
    "editable": false,
    "ExecuteTime": {
     "end_time": "2024-03-31T14:11:25.289845Z",
     "start_time": "2024-03-31T14:11:25.284567Z"
    }
   },
   "outputs": [],
   "source": [
    "a = 2\n",
    "b = 3\n",
    "c = 2"
   ]
  },
  {
   "cell_type": "code",
   "execution_count": 6,
   "metadata": {
    "ExecuteTime": {
     "end_time": "2024-03-31T14:11:25.300838Z",
     "start_time": "2024-03-31T14:11:25.294172Z"
    }
   },
   "outputs": [],
   "source": [
    "# Your formula here:\n",
    "result = (6*a**3)-((8*b**2)/(4*c))+11"
   ]
  },
  {
   "cell_type": "code",
   "execution_count": 7,
   "metadata": {
    "editable": false,
    "ExecuteTime": {
     "end_time": "2024-03-31T14:11:25.309358Z",
     "start_time": "2024-03-31T14:11:25.305785Z"
    }
   },
   "outputs": [],
   "source": [
    "assert result == 50"
   ]
  },
  {
   "cell_type": "markdown",
   "metadata": {},
   "source": [
    "# 2. Floating point pitfalls\n",
    "Show that `0.1 + 0.2 == 0.3`"
   ]
  },
  {
   "cell_type": "code",
   "execution_count": 8,
   "metadata": {
    "ExecuteTime": {
     "end_time": "2024-03-31T14:11:25.316350Z",
     "start_time": "2024-03-31T14:11:25.311894Z"
    }
   },
   "outputs": [],
   "source": [
    "# Your solution here\n",
    "from decimal import Decimal\n",
    "result1=Decimal(\"0.1\") + Decimal(\"0.2\") == Decimal(\"0.3\")\n",
    "# This won't work:\n",
    "# assert 0.1 + 0.2 == 0.3"
   ]
  }
 ],
 "metadata": {
  "kernelspec": {
   "display_name": "Python 3",
   "language": "python",
   "name": "python3"
  },
  "language_info": {
   "codemirror_mode": {
    "name": "ipython",
    "version": 3
   },
   "file_extension": ".py",
   "mimetype": "text/x-python",
   "name": "python",
   "nbconvert_exporter": "python",
   "pygments_lexer": "ipython3",
   "version": "3.5.4"
  }
 },
 "nbformat": 4,
 "nbformat_minor": 2
}
